{
 "cells": [
  {
   "cell_type": "code",
   "execution_count": 7,
   "metadata": {},
   "outputs": [
    {
     "name": "stderr",
     "output_type": "stream",
     "text": [
      "ERROR:tornado.application:Exception in callback functools.partial(<bound method IOLoop._discard_future_result of <tornado.platform.asyncio.AsyncIOLoop object at 0x7f8c847e4640>>, <Future finished exception=KatcpClientError(\"Failed to connect to ('192.168.2.100', 69)\")>)\n",
      "Traceback (most recent call last):\n",
      "  File \"/home/wei/Software/miniconda3/envs/py38_debugging/lib/python3.8/site-packages/tornado/ioloop.py\", line 740, in _run_callback\n",
      "    ret = callback()\n",
      "  File \"/home/wei/Software/miniconda3/envs/py38_debugging/lib/python3.8/site-packages/tornado/ioloop.py\", line 764, in _discard_future_result\n",
      "    future.result()\n",
      "  File \"/home/wei/Software/miniconda3/envs/py38_debugging/lib/python3.8/site-packages/tornado/gen.py\", line 782, in run\n",
      "    yielded = self.gen.send(value)\n",
      "  File \"/home/wei/Software/miniconda3/envs/py38_debugging/lib/python3.8/site-packages/katcp/client.py\", line 682, in _install\n",
      "    raise KatcpClientError(\"Failed to connect to {0!r}\"\n",
      "katcp.core.KatcpClientError: Failed to connect to ('192.168.2.100', 69)\n"
     ]
    }
   ],
   "source": [
    "import casperfpga\n",
    "from casperfpga import snapadc\n",
    "import logging\n",
    "logger=logging.getLogger('pmc')\n",
    "logging.basicConfig(filename='pmc.log',level=logging.DEBUG)\n",
    "snap=casperfpga.CasperFpga('192.168.2.100',69,logger=logger)"
   ]
  },
  {
   "cell_type": "code",
   "execution_count": 8,
   "metadata": {},
   "outputs": [
    {
     "data": {
      "text/plain": [
       "False"
      ]
     },
     "execution_count": 8,
     "metadata": {},
     "output_type": "execute_result"
    }
   ],
   "source": [
    "snap.upload_to_ram_and_program('fpg/dsa10_2022-11-02_1656.fpg')"
   ]
  },
  {
   "cell_type": "code",
   "execution_count": 9,
   "metadata": {},
   "outputs": [
    {
     "data": {
      "text/plain": [
       "[]"
      ]
     },
     "execution_count": 9,
     "metadata": {},
     "output_type": "execute_result"
    }
   ],
   "source": [
    "snap.adcs"
   ]
  },
  {
   "cell_type": "code",
   "execution_count": 6,
   "metadata": {},
   "outputs": [
    {
     "data": {
      "text/plain": [
       "False"
      ]
     },
     "execution_count": 6,
     "metadata": {},
     "output_type": "execute_result"
    }
   ],
   "source": [
    "snap.is_connected()"
   ]
  },
  {
   "cell_type": "code",
   "execution_count": 10,
   "metadata": {},
   "outputs": [
    {
     "data": {
      "text/plain": [
       "['acc_16',\n",
       " 'acc_full',\n",
       " 'acc_len',\n",
       " 'adc16_controller',\n",
       " 'adc16_use_synth',\n",
       " 'adc16_wb_ram0',\n",
       " 'adc16_wb_ram1',\n",
       " 'adc16_wb_ram2',\n",
       " 'adc_snap_bram',\n",
       " 'adc_snap_ctrl',\n",
       " 'adc_snap_status',\n",
       " 'adc_trig',\n",
       " 'coeff1',\n",
       " 'debug1_pfb',\n",
       " 'debug2_pfb',\n",
       " 'debug3_pfb',\n",
       " 'debug4_pfb',\n",
       " 'debug_eq_dat',\n",
       " 'del1',\n",
       " 'del2',\n",
       " 'del3',\n",
       " 'del4',\n",
       " 'del5',\n",
       " 'del6',\n",
       " 'del7',\n",
       " 'del8',\n",
       " 'eq_0_coeffs',\n",
       " 'eq_1_coeffs',\n",
       " 'eq_2_coeffs',\n",
       " 'eq_3_coeffs',\n",
       " 'eq_clip',\n",
       " 'eth1_ctrl',\n",
       " 'eth1_gbe1',\n",
       " 'eth1_sw_status',\n",
       " 'eth_ctrl',\n",
       " 'eth_gbe0',\n",
       " 'eth_sw_status',\n",
       " 'fft_of_count',\n",
       " 'fft_shift',\n",
       " 'force_sync',\n",
       " 'ip',\n",
       " 'ip1',\n",
       " 'lmx_ctrl',\n",
       " 'port',\n",
       " 'port1',\n",
       " 'raw1',\n",
       " 'raw2',\n",
       " 'reg_arm',\n",
       " 'scaling',\n",
       " 'sel1',\n",
       " 'snap_index',\n",
       " 'sys_block',\n",
       " 'sys_board_id',\n",
       " 'sys_clkcounter',\n",
       " 'sys_rev',\n",
       " 'sys_rev_rcs',\n",
       " 'sys_scratchpad']"
      ]
     },
     "execution_count": 10,
     "metadata": {},
     "output_type": "execute_result"
    }
   ],
   "source": [
    "snap.listdev()"
   ]
  },
  {
   "cell_type": "code",
   "execution_count": 11,
   "metadata": {},
   "outputs": [
    {
     "data": {
      "text/plain": [
       "{'sector_size': '65536',\n",
       " 'header_start': '8454144',\n",
       " 'header_length': '65536',\n",
       " 'prog_bitstream_start': '8519680',\n",
       " 'prog_bitstream_length': '6692572',\n",
       " 'md5sum': 'b7146831041d09ff39dd0a03043485eb',\n",
       " 'filename': 'dsa10_2022-11-02_1656.fpg'}"
      ]
     },
     "execution_count": 11,
     "metadata": {},
     "output_type": "execute_result"
    }
   ],
   "source": [
    "snap.transport.get_metadata()"
   ]
  },
  {
   "cell_type": "code",
   "execution_count": 12,
   "metadata": {},
   "outputs": [],
   "source": [
    "snap.get_system_information(filename='fpg/dsa10m_2022-11-02_1656.fpg',initialise_objects=False)"
   ]
  },
  {
   "cell_type": "code",
   "execution_count": 13,
   "metadata": {},
   "outputs": [],
   "source": [
    "adc=snap.adcs['snap_adc']"
   ]
  },
  {
   "cell_type": "code",
   "execution_count": 14,
   "metadata": {},
   "outputs": [
    {
     "name": "stdout",
     "output_type": "stream",
     "text": [
      "File in flash is:  dsa10_2022-11-02_1656.fpg\n"
     ]
    }
   ],
   "source": [
    "adc.selectADC()\n",
    "adc.init(sample_rate=500,numChannel=2)"
   ]
  },
  {
   "cell_type": "code",
   "execution_count": 5,
   "metadata": {},
   "outputs": [
    {
     "data": {
      "text/plain": [
       "8"
      ]
     },
     "execution_count": 5,
     "metadata": {},
     "output_type": "execute_result"
    }
   ],
   "source": [
    "adc.resolution"
   ]
  },
  {
   "cell_type": "code",
   "execution_count": 15,
   "metadata": {},
   "outputs": [],
   "source": [
    "gbe0=snap.gbes['eth_gbe0']\n",
    "gbe1=snap.gbes['eth1_gbe1']"
   ]
  },
  {
   "cell_type": "code",
   "execution_count": 16,
   "metadata": {},
   "outputs": [
    {
     "data": {
      "text/plain": [
       "{'ip_prefix': '192.168.5',\n",
       " 'ip': IpAddress(192.168.5.20),\n",
       " 'subnet_mask': IpAddress(255.255.255.0),\n",
       " 'mac': Mac(12:34:56:78:00:00),\n",
       " 'gateway_ip': IpAddress(0.0.0.1),\n",
       " 'fabric_port': 10000,\n",
       " 'fabric_en': 0,\n",
       " 'multicast': {'base_ip': IpAddress(255.255.255.255),\n",
       "  'ip_mask': IpAddress(255.255.255.255),\n",
       "  'rx_ips': []}}"
      ]
     },
     "execution_count": 16,
     "metadata": {},
     "output_type": "execute_result"
    }
   ],
   "source": [
    "gbe0.get_gbe_core_details()"
   ]
  },
  {
   "cell_type": "code",
   "execution_count": 17,
   "metadata": {},
   "outputs": [
    {
     "data": {
      "text/plain": [
       "{'ip_prefix': '192.168.5',\n",
       " 'ip': IpAddress(192.168.5.20),\n",
       " 'subnet_mask': IpAddress(255.255.255.0),\n",
       " 'mac': Mac(00:08:0B:C4:17:01),\n",
       " 'gateway_ip': IpAddress(0.0.0.1),\n",
       " 'fabric_port': 10000,\n",
       " 'fabric_en': 0,\n",
       " 'multicast': {'base_ip': IpAddress(255.255.255.255),\n",
       "  'ip_mask': IpAddress(255.255.255.255),\n",
       "  'rx_ips': []}}"
      ]
     },
     "execution_count": 17,
     "metadata": {},
     "output_type": "execute_result"
    }
   ],
   "source": [
    "gbe1.get_gbe_core_details()"
   ]
  },
  {
   "cell_type": "code",
   "execution_count": 14,
   "metadata": {},
   "outputs": [],
   "source": [
    "adc.snapshot()"
   ]
  },
  {
   "cell_type": "code",
   "execution_count": 15,
   "metadata": {},
   "outputs": [],
   "source": [
    "data=adc.readRAM()"
   ]
  },
  {
   "cell_type": "code",
   "execution_count": 31,
   "metadata": {},
   "outputs": [
    {
     "data": {
      "text/plain": [
       "array([ 124, -124, -124,  124, -124, -112,  123, -124])"
      ]
     },
     "execution_count": 31,
     "metadata": {},
     "output_type": "execute_result"
    }
   ],
   "source": [
    "data[0][1]"
   ]
  },
  {
   "cell_type": "markdown",
   "metadata": {},
   "source": []
  },
  {
   "cell_type": "code",
   "execution_count": 22,
   "metadata": {},
   "outputs": [],
   "source": [
    "import matplotlib.pyplot as plt"
   ]
  },
  {
   "cell_type": "code",
   "execution_count": 25,
   "metadata": {},
   "outputs": [
    {
     "data": {
      "image/png": "[encoded data removed]",
      "text/plain": [
       "<Figure size 640x480 with 1 Axes>"
      ]
     },
     "metadata": {},
     "output_type": "display_data"
    }
   ],
   "source": [
    "plt.plot(data[2])\n",
    "plt.show()"
   ]
  },
  {
   "cell_type": "code",
   "execution_count": 18,
   "metadata": {},
   "outputs": [
    {
     "data": {
      "text/plain": [
       "{'ip_prefix': '192.168.2',\n",
       " 'ip': IpAddress(192.168.2.100),\n",
       " 'subnet_mask': IpAddress(255.255.255.0),\n",
       " 'mac': Mac(00:08:0B:C4:17:01),\n",
       " 'gateway_ip': IpAddress(0.0.0.1),\n",
       " 'fabric_port': 4000,\n",
       " 'fabric_en': 1,\n",
       " 'multicast': {'base_ip': IpAddress(255.255.255.255),\n",
       "  'ip_mask': IpAddress(255.255.255.255),\n",
       "  'rx_ips': []}}"
      ]
     },
     "execution_count": 18,
     "metadata": {},
     "output_type": "execute_result"
    }
   ],
   "source": [
    "src_mac  = \"00:08:0b:c4:17:01\"\n",
    "src_ip   = \"192.168.2.100\"\n",
    "src_port = 4000\n",
    "gbe1.configure_core(src_mac, src_ip, src_port)\n",
    "gbe1.get_gbe_core_details()"
   ]
  },
  {
   "cell_type": "code",
   "execution_count": 23,
   "metadata": {},
   "outputs": [
    {
     "data": {
      "text/plain": [
       "[Mac(FF:FF:FF:FF:FF:FF),\n",
       " Mac(F4:52:14:16:24:A0),\n",
       " Mac(FF:FF:FF:FF:FF:FF),\n",
       " Mac(FF:FF:FF:FF:FF:FF),\n",
       " Mac(FF:FF:FF:FF:FF:FF),\n",
       " Mac(FF:FF:FF:FF:FF:FF),\n",
       " Mac(FF:FF:FF:FF:FF:FF),\n",
       " Mac(FF:FF:FF:FF:FF:FF),\n",
       " Mac(FF:FF:FF:FF:FF:FF),\n",
       " Mac(FF:FF:FF:FF:FF:FF),\n",
       " Mac(FF:FF:FF:FF:FF:FF),\n",
       " Mac(FF:FF:FF:FF:FF:FF),\n",
       " Mac(FF:FF:FF:FF:FF:FF),\n",
       " Mac(FF:FF:FF:FF:FF:FF),\n",
       " Mac(FF:FF:FF:FF:FF:FF),\n",
       " Mac(FF:FF:FF:FF:FF:FF),\n",
       " Mac(FF:FF:FF:FF:FF:FF),\n",
       " Mac(FF:FF:FF:FF:FF:FF),\n",
       " Mac(FF:FF:FF:FF:FF:FF),\n",
       " Mac(FF:FF:FF:FF:FF:FF),\n",
       " Mac(FF:FF:FF:FF:FF:FF),\n",
       " Mac(FF:FF:FF:FF:FF:FF),\n",
       " Mac(FF:FF:FF:FF:FF:FF),\n",
       " Mac(FF:FF:FF:FF:FF:FF),\n",
       " Mac(FF:FF:FF:FF:FF:FF),\n",
       " Mac(FF:FF:FF:FF:FF:FF),\n",
       " Mac(FF:FF:FF:FF:FF:FF),\n",
       " Mac(FF:FF:FF:FF:FF:FF),\n",
       " Mac(FF:FF:FF:FF:FF:FF),\n",
       " Mac(FF:FF:FF:FF:FF:FF),\n",
       " Mac(FF:FF:FF:FF:FF:FF),\n",
       " Mac(FF:FF:FF:FF:FF:FF),\n",
       " Mac(FF:FF:FF:FF:FF:FF),\n",
       " Mac(FF:FF:FF:FF:FF:FF),\n",
       " Mac(FF:FF:FF:FF:FF:FF),\n",
       " Mac(FF:FF:FF:FF:FF:FF),\n",
       " Mac(FF:FF:FF:FF:FF:FF),\n",
       " Mac(FF:FF:FF:FF:FF:FF),\n",
       " Mac(FF:FF:FF:FF:FF:FF),\n",
       " Mac(FF:FF:FF:FF:FF:FF),\n",
       " Mac(FF:FF:FF:FF:FF:FF),\n",
       " Mac(FF:FF:FF:FF:FF:FF),\n",
       " Mac(FF:FF:FF:FF:FF:FF),\n",
       " Mac(FF:FF:FF:FF:FF:FF),\n",
       " Mac(FF:FF:FF:FF:FF:FF),\n",
       " Mac(FF:FF:FF:FF:FF:FF),\n",
       " Mac(FF:FF:FF:FF:FF:FF),\n",
       " Mac(FF:FF:FF:FF:FF:FF),\n",
       " Mac(FF:FF:FF:FF:FF:FF),\n",
       " Mac(FF:FF:FF:FF:FF:FF),\n",
       " Mac(FF:FF:FF:FF:FF:FF),\n",
       " Mac(FF:FF:FF:FF:FF:FF),\n",
       " Mac(FF:FF:FF:FF:FF:FF),\n",
       " Mac(FF:FF:FF:FF:FF:FF),\n",
       " Mac(FF:FF:FF:FF:FF:FF),\n",
       " Mac(FF:FF:FF:FF:FF:FF),\n",
       " Mac(FF:FF:FF:FF:FF:FF),\n",
       " Mac(FF:FF:FF:FF:FF:FF),\n",
       " Mac(FF:FF:FF:FF:FF:FF),\n",
       " Mac(FF:FF:FF:FF:FF:FF),\n",
       " Mac(FF:FF:FF:FF:FF:FF),\n",
       " Mac(FF:FF:FF:FF:FF:FF),\n",
       " Mac(FF:FF:FF:FF:FF:FF),\n",
       " Mac(FF:FF:FF:FF:FF:FF),\n",
       " Mac(FF:FF:FF:FF:FF:FF),\n",
       " Mac(FF:FF:FF:FF:FF:FF),\n",
       " Mac(FF:FF:FF:FF:FF:FF),\n",
       " Mac(FF:FF:FF:FF:FF:FF),\n",
       " Mac(FF:FF:FF:FF:FF:FF),\n",
       " Mac(FF:FF:FF:FF:FF:FF),\n",
       " Mac(FF:FF:FF:FF:FF:FF),\n",
       " Mac(FF:FF:FF:FF:FF:FF),\n",
       " Mac(FF:FF:FF:FF:FF:FF),\n",
       " Mac(FF:FF:FF:FF:FF:FF),\n",
       " Mac(FF:FF:FF:FF:FF:FF),\n",
       " Mac(FF:FF:FF:FF:FF:FF),\n",
       " Mac(FF:FF:FF:FF:FF:FF),\n",
       " Mac(FF:FF:FF:FF:FF:FF),\n",
       " Mac(FF:FF:FF:FF:FF:FF),\n",
       " Mac(FF:FF:FF:FF:FF:FF),\n",
       " Mac(FF:FF:FF:FF:FF:FF),\n",
       " Mac(FF:FF:FF:FF:FF:FF),\n",
       " Mac(FF:FF:FF:FF:FF:FF),\n",
       " Mac(FF:FF:FF:FF:FF:FF),\n",
       " Mac(FF:FF:FF:FF:FF:FF),\n",
       " Mac(FF:FF:FF:FF:FF:FF),\n",
       " Mac(FF:FF:FF:FF:FF:FF),\n",
       " Mac(FF:FF:FF:FF:FF:FF),\n",
       " Mac(FF:FF:FF:FF:FF:FF),\n",
       " Mac(FF:FF:FF:FF:FF:FF),\n",
       " Mac(FF:FF:FF:FF:FF:FF),\n",
       " Mac(FF:FF:FF:FF:FF:FF),\n",
       " Mac(FF:FF:FF:FF:FF:FF),\n",
       " Mac(FF:FF:FF:FF:FF:FF),\n",
       " Mac(FF:FF:FF:FF:FF:FF),\n",
       " Mac(FF:FF:FF:FF:FF:FF),\n",
       " Mac(FF:FF:FF:FF:FF:FF),\n",
       " Mac(FF:FF:FF:FF:FF:FF),\n",
       " Mac(FF:FF:FF:FF:FF:FF),\n",
       " Mac(FF:FF:FF:FF:FF:FF),\n",
       " Mac(FF:FF:FF:FF:FF:FF),\n",
       " Mac(FF:FF:FF:FF:FF:FF),\n",
       " Mac(FF:FF:FF:FF:FF:FF),\n",
       " Mac(FF:FF:FF:FF:FF:FF),\n",
       " Mac(FF:FF:FF:FF:FF:FF),\n",
       " Mac(FF:FF:FF:FF:FF:FF),\n",
       " Mac(FF:FF:FF:FF:FF:FF),\n",
       " Mac(FF:FF:FF:FF:FF:FF),\n",
       " Mac(FF:FF:FF:FF:FF:FF),\n",
       " Mac(FF:FF:FF:FF:FF:FF),\n",
       " Mac(FF:FF:FF:FF:FF:FF),\n",
       " Mac(FF:FF:FF:FF:FF:FF),\n",
       " Mac(FF:FF:FF:FF:FF:FF),\n",
       " Mac(FF:FF:FF:FF:FF:FF),\n",
       " Mac(FF:FF:FF:FF:FF:FF),\n",
       " Mac(FF:FF:FF:FF:FF:FF),\n",
       " Mac(FF:FF:FF:FF:FF:FF),\n",
       " Mac(FF:FF:FF:FF:FF:FF),\n",
       " Mac(FF:FF:FF:FF:FF:FF),\n",
       " Mac(FF:FF:FF:FF:FF:FF),\n",
       " Mac(FF:FF:FF:FF:FF:FF),\n",
       " Mac(FF:FF:FF:FF:FF:FF),\n",
       " Mac(FF:FF:FF:FF:FF:FF),\n",
       " Mac(FF:FF:FF:FF:FF:FF),\n",
       " Mac(FF:FF:FF:FF:FF:FF),\n",
       " Mac(FF:FF:FF:FF:FF:FF),\n",
       " Mac(FF:FF:FF:FF:FF:FF),\n",
       " Mac(FF:FF:FF:FF:FF:FF),\n",
       " Mac(FF:FF:FF:FF:FF:FF),\n",
       " Mac(FF:FF:FF:FF:FF:FF),\n",
       " Mac(FF:FF:FF:FF:FF:FF),\n",
       " Mac(FF:FF:FF:FF:FF:FF),\n",
       " Mac(FF:FF:FF:FF:FF:FF),\n",
       " Mac(FF:FF:FF:FF:FF:FF),\n",
       " Mac(FF:FF:FF:FF:FF:FF),\n",
       " Mac(FF:FF:FF:FF:FF:FF),\n",
       " Mac(FF:FF:FF:FF:FF:FF),\n",
       " Mac(FF:FF:FF:FF:FF:FF),\n",
       " Mac(FF:FF:FF:FF:FF:FF),\n",
       " Mac(FF:FF:FF:FF:FF:FF),\n",
       " Mac(FF:FF:FF:FF:FF:FF),\n",
       " Mac(FF:FF:FF:FF:FF:FF),\n",
       " Mac(FF:FF:FF:FF:FF:FF),\n",
       " Mac(FF:FF:FF:FF:FF:FF),\n",
       " Mac(FF:FF:FF:FF:FF:FF),\n",
       " Mac(FF:FF:FF:FF:FF:FF),\n",
       " Mac(FF:FF:FF:FF:FF:FF),\n",
       " Mac(FF:FF:FF:FF:FF:FF),\n",
       " Mac(FF:FF:FF:FF:FF:FF),\n",
       " Mac(FF:FF:FF:FF:FF:FF),\n",
       " Mac(FF:FF:FF:FF:FF:FF),\n",
       " Mac(FF:FF:FF:FF:FF:FF),\n",
       " Mac(FF:FF:FF:FF:FF:FF),\n",
       " Mac(FF:FF:FF:FF:FF:FF),\n",
       " Mac(FF:FF:FF:FF:FF:FF),\n",
       " Mac(FF:FF:FF:FF:FF:FF),\n",
       " Mac(FF:FF:FF:FF:FF:FF),\n",
       " Mac(FF:FF:FF:FF:FF:FF),\n",
       " Mac(FF:FF:FF:FF:FF:FF),\n",
       " Mac(FF:FF:FF:FF:FF:FF),\n",
       " Mac(FF:FF:FF:FF:FF:FF),\n",
       " Mac(FF:FF:FF:FF:FF:FF),\n",
       " Mac(FF:FF:FF:FF:FF:FF),\n",
       " Mac(FF:FF:FF:FF:FF:FF),\n",
       " Mac(FF:FF:FF:FF:FF:FF),\n",
       " Mac(FF:FF:FF:FF:FF:FF),\n",
       " Mac(FF:FF:FF:FF:FF:FF),\n",
       " Mac(FF:FF:FF:FF:FF:FF),\n",
       " Mac(FF:FF:FF:FF:FF:FF),\n",
       " Mac(FF:FF:FF:FF:FF:FF),\n",
       " Mac(FF:FF:FF:FF:FF:FF),\n",
       " Mac(FF:FF:FF:FF:FF:FF),\n",
       " Mac(FF:FF:FF:FF:FF:FF),\n",
       " Mac(FF:FF:FF:FF:FF:FF),\n",
       " Mac(FF:FF:FF:FF:FF:FF),\n",
       " Mac(FF:FF:FF:FF:FF:FF),\n",
       " Mac(FF:FF:FF:FF:FF:FF),\n",
       " Mac(FF:FF:FF:FF:FF:FF),\n",
       " Mac(FF:FF:FF:FF:FF:FF),\n",
       " Mac(FF:FF:FF:FF:FF:FF),\n",
       " Mac(FF:FF:FF:FF:FF:FF),\n",
       " Mac(FF:FF:FF:FF:FF:FF),\n",
       " Mac(FF:FF:FF:FF:FF:FF),\n",
       " Mac(FF:FF:FF:FF:FF:FF),\n",
       " Mac(FF:FF:FF:FF:FF:FF),\n",
       " Mac(FF:FF:FF:FF:FF:FF),\n",
       " Mac(FF:FF:FF:FF:FF:FF),\n",
       " Mac(FF:FF:FF:FF:FF:FF),\n",
       " Mac(FF:FF:FF:FF:FF:FF),\n",
       " Mac(FF:FF:FF:FF:FF:FF),\n",
       " Mac(FF:FF:FF:FF:FF:FF),\n",
       " Mac(FF:FF:FF:FF:FF:FF),\n",
       " Mac(FF:FF:FF:FF:FF:FF),\n",
       " Mac(FF:FF:FF:FF:FF:FF),\n",
       " Mac(FF:FF:FF:FF:FF:FF),\n",
       " Mac(FF:FF:FF:FF:FF:FF),\n",
       " Mac(FF:FF:FF:FF:FF:FF),\n",
       " Mac(FF:FF:FF:FF:FF:FF),\n",
       " Mac(FF:FF:FF:FF:FF:FF),\n",
       " Mac(FF:FF:FF:FF:FF:FF),\n",
       " Mac(FF:FF:FF:FF:FF:FF),\n",
       " Mac(FF:FF:FF:FF:FF:FF),\n",
       " Mac(FF:FF:FF:FF:FF:FF),\n",
       " Mac(FF:FF:FF:FF:FF:FF),\n",
       " Mac(FF:FF:FF:FF:FF:FF),\n",
       " Mac(FF:FF:FF:FF:FF:FF),\n",
       " Mac(FF:FF:FF:FF:FF:FF),\n",
       " Mac(FF:FF:FF:FF:FF:FF),\n",
       " Mac(FF:FF:FF:FF:FF:FF),\n",
       " Mac(FF:FF:FF:FF:FF:FF),\n",
       " Mac(FF:FF:FF:FF:FF:FF),\n",
       " Mac(FF:FF:FF:FF:FF:FF),\n",
       " Mac(FF:FF:FF:FF:FF:FF),\n",
       " Mac(FF:FF:FF:FF:FF:FF),\n",
       " Mac(FF:FF:FF:FF:FF:FF),\n",
       " Mac(FF:FF:FF:FF:FF:FF),\n",
       " Mac(FF:FF:FF:FF:FF:FF),\n",
       " Mac(FF:FF:FF:FF:FF:FF),\n",
       " Mac(FF:FF:FF:FF:FF:FF),\n",
       " Mac(FF:FF:FF:FF:FF:FF),\n",
       " Mac(FF:FF:FF:FF:FF:FF),\n",
       " Mac(FF:FF:FF:FF:FF:FF),\n",
       " Mac(FF:FF:FF:FF:FF:FF),\n",
       " Mac(FF:FF:FF:FF:FF:FF),\n",
       " Mac(FF:FF:FF:FF:FF:FF),\n",
       " Mac(FF:FF:FF:FF:FF:FF),\n",
       " Mac(FF:FF:FF:FF:FF:FF),\n",
       " Mac(FF:FF:FF:FF:FF:FF),\n",
       " Mac(FF:FF:FF:FF:FF:FF),\n",
       " Mac(FF:FF:FF:FF:FF:FF),\n",
       " Mac(FF:FF:FF:FF:FF:FF),\n",
       " Mac(FF:FF:FF:FF:FF:FF),\n",
       " Mac(FF:FF:FF:FF:FF:FF),\n",
       " Mac(FF:FF:FF:FF:FF:FF),\n",
       " Mac(FF:FF:FF:FF:FF:FF),\n",
       " Mac(FF:FF:FF:FF:FF:FF),\n",
       " Mac(FF:FF:FF:FF:FF:FF),\n",
       " Mac(FF:FF:FF:FF:FF:FF),\n",
       " Mac(FF:FF:FF:FF:FF:FF),\n",
       " Mac(FF:FF:FF:FF:FF:FF),\n",
       " Mac(FF:FF:FF:FF:FF:FF),\n",
       " Mac(FF:FF:FF:FF:FF:FF),\n",
       " Mac(FF:FF:FF:FF:FF:FF),\n",
       " Mac(FF:FF:FF:FF:FF:FF),\n",
       " Mac(FF:FF:FF:FF:FF:FF),\n",
       " Mac(FF:FF:FF:FF:FF:FF),\n",
       " Mac(FF:FF:FF:FF:FF:FF),\n",
       " Mac(FF:FF:FF:FF:FF:FF),\n",
       " Mac(FF:FF:FF:FF:FF:FF),\n",
       " Mac(FF:FF:FF:FF:FF:FF),\n",
       " Mac(FF:FF:FF:FF:FF:FF),\n",
       " Mac(FF:FF:FF:FF:FF:FF),\n",
       " Mac(FF:FF:FF:FF:FF:FF),\n",
       " Mac(FF:FF:FF:FF:FF:FF),\n",
       " Mac(FF:FF:FF:FF:FF:FF),\n",
       " Mac(FF:FF:FF:FF:FF:FF)]"
      ]
     },
     "execution_count": 23,
     "metadata": {},
     "output_type": "execute_result"
    }
   ],
   "source": [
    "gbe1_dst_mac  = 0xf452141624a0\n",
    "# write register requires a int vaule, but set_single_arp_entry requires a string\n",
    "gbe1_dst_ip   = 192*(2**24) + 168*(2**16) + 2*(2**8) + 1\n",
    "gbe1_dst_ip_str='192.168.2.1'\n",
    "gbe1_dst_port = 4015\n",
    "snap.registers['ip1'].write_int(gbe1_dst_ip)\n",
    "snap.registers['port1'].write_int(gbe1_dst_port)\n",
    "gbe1.set_single_arp_entry(gbe1_dst_ip_str,gbe1_dst_mac)\n",
    "gbe1.get_arp_details()"
   ]
  },
  {
   "cell_type": "code",
   "execution_count": 22,
   "metadata": {},
   "outputs": [],
   "source": [
    "gbe1.set_single_arp_entry('192.168.2.1',0xf452141624a0)"
   ]
  },
  {
   "cell_type": "code",
   "execution_count": 24,
   "metadata": {},
   "outputs": [],
   "source": [
    "gbe1.fabric_enable()"
   ]
  },
  {
   "cell_type": "code",
   "execution_count": 25,
   "metadata": {},
   "outputs": [],
   "source": [
    "import time\n",
    "# set acc len\n",
    "snap.registers['acc_len'].write_int(127)\n",
    "# full rst\n",
    "snap.registers['force_sync'].write_int(2) \n",
    "time.sleep(0.1)\n",
    "# sync\n",
    "snap.registers['force_sync'].write_int(1)\n",
    "time.sleep(0.1)\n",
    "snap.registers['force_sync'].write_int(0)"
   ]
  },
  {
   "cell_type": "code",
   "execution_count": 26,
   "metadata": {},
   "outputs": [],
   "source": [
    "snap.registers['scaling'].write_int(0)"
   ]
  },
  {
   "cell_type": "code",
   "execution_count": null,
   "metadata": {},
   "outputs": [],
   "source": []
  }
 ],
 "metadata": {
  "kernelspec": {
   "display_name": "Python 3.8.13 ('py38_debugging')",
   "language": "python",
   "name": "python3"
  },
  "language_info": {
   "codemirror_mode": {
    "name": "ipython",
    "version": 3
   },
   "file_extension": ".py",
   "mimetype": "text/x-python",
   "name": "python",
   "nbconvert_exporter": "python",
   "pygments_lexer": "ipython3",
   "version": "3.8.13"
  },
  "orig_nbformat": 4,
  "vscode": {
   "interpreter": {
    "hash": "fb8efb2a9d471d5e61519e0952f2a755bda98b678e63a94a8de5f5a1a2a5f7d1"
   }
  }
 },
 "nbformat": 4,
 "nbformat_minor": 2
}
