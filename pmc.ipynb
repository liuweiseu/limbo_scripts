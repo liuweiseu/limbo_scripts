{
 "cells": [
  {
   "cell_type": "markdown",
   "metadata": {},
   "source": [
    "## PMC Instrumentation\n",
    "* requirements:\n",
    "    * mlib_devel : m2019a branch\n",
    "    * casperfpga : py38 branch, snapadc.py has to be changed"
   ]
  },
  {
   "cell_type": "markdown",
   "metadata": {},
   "source": [
    "### Step1: Connect to the SNAP board "
   ]
  },
  {
   "cell_type": "code",
   "execution_count": null,
   "metadata": {},
   "outputs": [],
   "source": [
    "import casperfpga\n",
    "import logging\n",
    "import time\n",
    "pmc_ip = '192.168.2.102'\n",
    "port   = 69\n",
    "logger=logging.getLogger('pmc')\n",
    "logging.basicConfig(filename='pmc.log',level=logging.DEBUG)\n",
    "pmc=casperfpga.CasperFpga(pmc_ip, port, logger=logger)"
   ]
  },
  {
   "cell_type": "markdown",
   "metadata": {},
   "source": [
    "### Step2: Upload fpg file"
   ]
  },
  {
   "cell_type": "code",
   "execution_count": null,
   "metadata": {},
   "outputs": [],
   "source": [
    "fpg = 'fpg/dsa10_2022-11-02_1656.fpg'\n",
    "pmc.upload_to_ram_and_program(fpg)\n",
    "# We should get system info in \"upload_to_ran_and_program\", but it seems there are some issues in the casperfpga\n",
    "pmc.get_system_information(fpg,initialise_objects=False)\n",
    "pmc.listdev()"
   ]
  },
  {
   "cell_type": "markdown",
   "metadata": {},
   "source": [
    "### Step3: Init adc and clk"
   ]
  },
  {
   "cell_type": "code",
   "execution_count": null,
   "metadata": {},
   "outputs": [],
   "source": [
    "adc=pmc.adcs['snap_adc']\n",
    "adc.selectADC()\n",
    "adc.init(sample_rate=500,numChannel=2)\n",
    "# set adc scales\n",
    "# To-do: scale value for each channel is a 3-bits value\n",
    "pmc.registers['scaling'].write_int(0)\n",
    "# set delays between adc module and pfb_fir module\n",
    "pmc.registers['del1'].write_int(5)\n",
    "pmc.registers['del2'].write_int(5)\n",
    "pmc.registers['del3'].write_int(5)\n",
    "pmc.registers['del4'].write_int(5)\n",
    "pmc.registers['del5'].write_int(5)\n",
    "pmc.registers['del6'].write_int(5)\n",
    "pmc.registers['del7'].write_int(5)\n",
    "pmc.registers['del8'].write_int(5)"
   ]
  },
  {
   "cell_type": "markdown",
   "metadata": {},
   "source": [
    "### Step4: Configure basic registers"
   ]
  },
  {
   "cell_type": "code",
   "execution_count": null,
   "metadata": {},
   "outputs": [],
   "source": [
    "# set snap_index\n",
    "pmc.registers['snap_index'].write_int(0)\n",
    "# set fft shift\n",
    "pmc.registers['fft_shift'].write_int(65535)\n",
    "# set sel, which is used for selecting 16bits from 64-bit spectra data\n",
    "# sel: '0' selects 15-0 bit\n",
    "#      '1' selects 31:16 bit\n",
    "#      '2' selects 47-32 bit\n",
    "#      '3' selects 63-48 bit\n",
    "pmc.registers['sel1'].write_int(1)\n",
    "# set coeff, which is the coefficient for the 64-bit spectra data\n",
    "pmc.registers['coeff1'].write_int(7)"
   ]
  },
  {
   "cell_type": "markdown",
   "metadata": {},
   "source": [
    "### Step5: Configure 10GbE port"
   ]
  },
  {
   "cell_type": "code",
   "execution_count": null,
   "metadata": {},
   "outputs": [],
   "source": [
    "gbe0=pmc.gbes['eth_gbe0']\n",
    "gbe1=pmc.gbes['eth1_gbe1']\n",
    "\n",
    "# configure gbe0\n",
    "# src\n",
    "gbe0_src_mac  = \"00:08:0b:c4:17:00\"\n",
    "gbe0_src_ip   = \"192.168.2.101\"\n",
    "gbe0_src_port = 4001\n",
    "gbe0.configure_core(gbe0_src_mac, gbe0_src_ip, gbe0_src_port)\n",
    "# dst\n",
    "gbe0_dst_mac  = 0xf452141624a0\n",
    "# write register requires a int vaule, but set_single_arp_entry requires a string\n",
    "gbe0_dst_ip   = 192*(2**24) + 168*(2**16) + 2*(2**8) + 1\n",
    "gbe0_dst_ip_str='192.168.2.1'\n",
    "gbe0.set_single_arp_entry(gbe0_dst_ip_str,gbe0_dst_mac)\n",
    "gbe0.fabric_disable()\n",
    "\n",
    "# configure gbe1\n",
    "# src\n",
    "gbe1_src_mac  = \"00:08:0b:c4:17:01\"\n",
    "gbe1_src_ip   = \"192.168.2.102\"\n",
    "gbe1_src_port = 4000\n",
    "gbe1.configure_core(gbe1_src_mac, gbe1_src_ip, gbe1_src_port)\n",
    "# dst\n",
    "gbe1_dst_mac  = 0xf452141624a0\n",
    "# write register requires a int vaule, but set_single_arp_entry requires a string\n",
    "gbe1_dst_ip   = 192*(2**24) + 168*(2**16) + 2*(2**8) + 1\n",
    "gbe1_dst_ip_str='192.168.2.1'\n",
    "gbe1.set_single_arp_entry(gbe1_dst_ip_str,gbe1_dst_mac)\n",
    "gbe1.fabric_enable()\n",
    "pmc.registers['eth1_ctrl'].write_int(1+ 2 + (1<<18))\n",
    "time.sleep(0.1)\n",
    "pmc.registers['eth1_ctrl'].write_int(0 +2 + (0<<18))"
   ]
  },
  {
   "cell_type": "markdown",
   "metadata": {},
   "source": [
    "### Step6 : Configre integration time and then rst the system"
   ]
  },
  {
   "cell_type": "code",
   "execution_count": null,
   "metadata": {},
   "outputs": [],
   "source": [
    "# set acc len\n",
    "pmc.registers['acc_len'].write_int(127)\n",
    "# full rst\n",
    "pmc.registers['force_sync'].write_int(2) \n",
    "time.sleep(0.1)\n",
    "# sync\n",
    "pmc.registers['force_sync'].write_int(1)"
   ]
  }
 ],
 "metadata": {
  "kernelspec": {
   "display_name": "Python 3.8.13 ('py38_debugging')",
   "language": "python",
   "name": "python3"
  },
  "language_info": {
   "codemirror_mode": {
    "name": "ipython",
    "version": 3
   },
   "file_extension": ".py",
   "mimetype": "text/x-python",
   "name": "python",
   "nbconvert_exporter": "python",
   "pygments_lexer": "ipython3",
   "version": "3.8.13"
  },
  "orig_nbformat": 4,
  "vscode": {
   "interpreter": {
    "hash": "fb8efb2a9d471d5e61519e0952f2a755bda98b678e63a94a8de5f5a1a2a5f7d1"
   }
  }
 },
 "nbformat": 4,
 "nbformat_minor": 2
}
