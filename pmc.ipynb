{
 "cells": [
  {
   "cell_type": "markdown",
   "metadata": {},
   "source": [
    "## PMC Instrumentation\n",
    "* requirements:\n",
    "    * mlib_devel : m2019a branch\n",
    "    * casperfpga : py38 branch, snapadc.py has to be changed"
   ]
  },
  {
   "cell_type": "markdown",
   "metadata": {},
   "source": [
    "### Step1: Connect to the SNAP board "
   ]
  },
  {
   "cell_type": "code",
   "execution_count": null,
   "metadata": {},
   "outputs": [],
   "source": [
    "import casperfpga\n",
    "import logging\n",
    "import time\n",
    "pmc_ip = '192.168.2.100'\n",
    "port   = 69\n",
    "logger=logging.getLogger('pmc')\n",
    "logging.basicConfig(filename='pmc.log',level=logging.DEBUG)\n",
    "pmc=casperfpga.CasperFpga(pmc_ip, port, logger=logger)"
   ]
  },
  {
   "cell_type": "markdown",
   "metadata": {},
   "source": [
    "### Step2: Upload fpg file"
   ]
  },
  {
   "cell_type": "code",
   "execution_count": null,
   "metadata": {},
   "outputs": [],
   "source": [
    "pmc.upload_to_ram_and_program('fpg/dsa10_2022-11-02_1656.fpg')\n",
    "pmc.listdev()"
   ]
  },
  {
   "cell_type": "markdown",
   "metadata": {},
   "source": [
    "### Step3: Configure basic registers"
   ]
  },
  {
   "cell_type": "code",
   "execution_count": null,
   "metadata": {},
   "outputs": [],
   "source": [
    "# set snap_index\n",
    "pmc.registers['snap_index'].write_int(0)\n",
    "# set fft shift\n",
    "pmc.registers['fft_shitf'].write_int(65535)\n",
    "# set delays between adc module and pfb_fir module\n",
    "pmc.registers['del1'].write_int(5)\n",
    "pmc.registers['del2'].write_int(5)\n",
    "pmc.registers['del3'].write_int(5)\n",
    "pmc.registers['del4'].write_int(5)\n",
    "pmc.registers['del5'].write_int(5)\n",
    "pmc.registers['del6'].write_int(5)\n",
    "pmc.registers['del7'].write_int(5)\n",
    "pmc.registers['del8'].write_int(5)\n",
    "# set sel, which is used for selecting 16bits from 64-bit spectra data\n",
    "# sel: '0' selects 15-0 bit\n",
    "#      '1' selects 31:16 bit\n",
    "#      '2' selects 47-32 bit\n",
    "#      '3' selects 63-48 bit\n",
    "pmc.registers['sel1'].write_int(1)\n",
    "# set coeff, which is the coefficient for the 64-bit spectra data\n",
    "pmc.registers['coeff1'].write_int(7)"
   ]
  },
  {
   "cell_type": "code",
   "execution_count": null,
   "metadata": {},
   "outputs": [],
   "source": [
    "\n",
    "# full rst\n",
    "pmc.registers['force_sync'].write_int(2) \n",
    "time.sleep(0.1)\n",
    "# sync\n",
    "pmc.registers['force_sync'].write_int(1)\n"
   ]
  }
 ],
 "metadata": {
  "kernelspec": {
   "display_name": "Python 3.8.13 ('py38_debugging')",
   "language": "python",
   "name": "python3"
  },
  "language_info": {
   "name": "python",
   "version": "3.8.13"
  },
  "orig_nbformat": 4,
  "vscode": {
   "interpreter": {
    "hash": "fb8efb2a9d471d5e61519e0952f2a755bda98b678e63a94a8de5f5a1a2a5f7d1"
   }
  }
 },
 "nbformat": 4,
 "nbformat_minor": 2
}
