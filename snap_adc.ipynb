{
 "cells": [
  {
   "cell_type": "code",
   "execution_count": 1,
   "metadata": {},
   "outputs": [
    {
     "name": "stderr",
     "output_type": "stream",
     "text": [
      "ERROR:tornado.application:Exception in callback functools.partial(<bound method IOLoop._discard_future_result of <tornado.platform.asyncio.AsyncIOLoop object at 0x7f47364e5a90>>, <Future finished exception=KatcpClientError(\"Failed to connect to ('192.168.2.100', 69)\")>)\n",
      "Traceback (most recent call last):\n",
      "  File \"/home/wei/Software/miniconda3/envs/py38/lib/python3.8/site-packages/tornado/ioloop.py\", line 740, in _run_callback\n",
      "    ret = callback()\n",
      "  File \"/home/wei/Software/miniconda3/envs/py38/lib/python3.8/site-packages/tornado/ioloop.py\", line 764, in _discard_future_result\n",
      "    future.result()\n",
      "  File \"/home/wei/Software/miniconda3/envs/py38/lib/python3.8/site-packages/tornado/gen.py\", line 782, in run\n",
      "    yielded = self.gen.send(value)\n",
      "  File \"/home/wei/Software/miniconda3/envs/py38/lib/python3.8/site-packages/katcp/client.py\", line 682, in _install\n",
      "    raise KatcpClientError(\"Failed to connect to {0!r}\"\n",
      "katcp.core.KatcpClientError: Failed to connect to ('192.168.2.100', 69)\n"
     ]
    }
   ],
   "source": [
    "import casperfpga\n",
    "snap=casperfpga.CasperFpga('192.168.2.100',69)"
   ]
  },
  {
   "cell_type": "code",
   "execution_count": 40,
   "metadata": {},
   "outputs": [
    {
     "data": {
      "text/plain": [
       "['adc16_controller',\n",
       " 'adc16_use_synth',\n",
       " 'adc16_wb_ram0',\n",
       " 'adc16_wb_ram1',\n",
       " 'adc16_wb_ram2',\n",
       " 'led_ctrl',\n",
       " 'lmx_ctrl',\n",
       " 'snapshot_a_ss_bram',\n",
       " 'snapshot_a_ss_ctrl',\n",
       " 'snapshot_a_ss_status',\n",
       " 'snapshot_b_ss_bram',\n",
       " 'snapshot_b_ss_ctrl',\n",
       " 'snapshot_b_ss_status',\n",
       " 'snapshot_c_ss_bram',\n",
       " 'snapshot_c_ss_ctrl',\n",
       " 'snapshot_c_ss_status',\n",
       " 'ss_ctrl',\n",
       " 'sys_block',\n",
       " 'sys_board_id',\n",
       " 'sys_clkcounter',\n",
       " 'sys_rev',\n",
       " 'sys_rev_rcs',\n",
       " 'sys_scratchpad',\n",
       " 'ten_gbe']"
      ]
     },
     "execution_count": 40,
     "metadata": {},
     "output_type": "execute_result"
    }
   ],
   "source": [
    "snap.listdev()"
   ]
  },
  {
   "cell_type": "code",
   "execution_count": 53,
   "metadata": {},
   "outputs": [
    {
     "data": {
      "text/plain": [
       "False"
      ]
     },
     "execution_count": 53,
     "metadata": {},
     "output_type": "execute_result"
    }
   ],
   "source": [
    "snap.upload_to_ram_and_program('fpg/snap_adc_2022-11-02_1623.fpg')"
   ]
  },
  {
   "cell_type": "code",
   "execution_count": 38,
   "metadata": {},
   "outputs": [
    {
     "name": "stdout",
     "output_type": "stream",
     "text": [
      "File in flash is:  snap_adc_2022-11-02_1623.fpg\n"
     ]
    }
   ],
   "source": [
    "snap.transport.prog_user_image()"
   ]
  },
  {
   "cell_type": "code",
   "execution_count": 54,
   "metadata": {},
   "outputs": [
    {
     "data": {
      "text/plain": [
       "True"
      ]
     },
     "execution_count": 54,
     "metadata": {},
     "output_type": "execute_result"
    }
   ],
   "source": [
    "snap.is_connected()"
   ]
  },
  {
   "cell_type": "code",
   "execution_count": 41,
   "metadata": {},
   "outputs": [
    {
     "data": {
      "text/plain": [
       "{'sector_size': '65536',\n",
       " 'header_start': '8454144',\n",
       " 'header_length': '65536',\n",
       " 'prog_bitstream_start': '8519680',\n",
       " 'prog_bitstream_length': '6692572',\n",
       " 'md5sum': '6ca98f041b70e4baf242082257f7cf9a',\n",
       " 'filename': 'snap_adc_2022-11-02_1623.fpg'}"
      ]
     },
     "execution_count": 41,
     "metadata": {},
     "output_type": "execute_result"
    }
   ],
   "source": [
    "snap.transport.get_metadata()"
   ]
  },
  {
   "cell_type": "code",
   "execution_count": 42,
   "metadata": {},
   "outputs": [],
   "source": [
    "from casperfpga import snapadc"
   ]
  },
  {
   "cell_type": "code",
   "execution_count": 43,
   "metadata": {},
   "outputs": [],
   "source": [
    "adc=snapadc.SnapAdc(snap)"
   ]
  },
  {
   "cell_type": "code",
   "execution_count": 46,
   "metadata": {},
   "outputs": [
    {
     "name": "stdout",
     "output_type": "stream",
     "text": [
      "File in flash is:  snap_adc_2022-11-02_1623.fpg\n"
     ]
    }
   ],
   "source": [
    "adc.init(sample_rate=500,numChannel=2)"
   ]
  },
  {
   "cell_type": "code",
   "execution_count": 45,
   "metadata": {},
   "outputs": [],
   "source": [
    "adc.selectADC()"
   ]
  },
  {
   "cell_type": "code",
   "execution_count": 57,
   "metadata": {},
   "outputs": [
    {
     "data": {
      "text/plain": [
       "['adc16_controller',\n",
       " 'adc16_use_synth',\n",
       " 'adc16_wb_ram0',\n",
       " 'adc16_wb_ram1',\n",
       " 'adc16_wb_ram2',\n",
       " 'led_ctrl',\n",
       " 'lmx_ctrl',\n",
       " 'snapshot_a_ss_bram',\n",
       " 'snapshot_a_ss_ctrl',\n",
       " 'snapshot_a_ss_status',\n",
       " 'snapshot_b_ss_bram',\n",
       " 'snapshot_b_ss_ctrl',\n",
       " 'snapshot_b_ss_status',\n",
       " 'snapshot_c_ss_bram',\n",
       " 'snapshot_c_ss_ctrl',\n",
       " 'snapshot_c_ss_status',\n",
       " 'ss_ctrl',\n",
       " 'sys_block',\n",
       " 'sys_board_id',\n",
       " 'sys_clkcounter',\n",
       " 'sys_rev',\n",
       " 'sys_rev_rcs',\n",
       " 'sys_scratchpad',\n",
       " 'ten_gbe']"
      ]
     },
     "execution_count": 57,
     "metadata": {},
     "output_type": "execute_result"
    }
   ],
   "source": [
    "snap.listdev()"
   ]
  },
  {
   "cell_type": "code",
   "execution_count": 51,
   "metadata": {},
   "outputs": [
    {
     "data": {
      "text/plain": [
       "0"
      ]
     },
     "execution_count": 51,
     "metadata": {},
     "output_type": "execute_result"
    }
   ],
   "source": [
    "snap.write_int('led_ctrl',0)\n",
    "snap.read_int('led_ctrl')"
   ]
  },
  {
   "cell_type": "code",
   "execution_count": 59,
   "metadata": {},
   "outputs": [
    {
     "data": {
      "text/plain": [
       "{}"
      ]
     },
     "execution_count": 59,
     "metadata": {},
     "output_type": "execute_result"
    }
   ],
   "source": [
    "snap.adc_devices"
   ]
  },
  {
   "cell_type": "code",
   "execution_count": 61,
   "metadata": {},
   "outputs": [
    {
     "ename": "AttributeError",
     "evalue": "'NoneType' object has no attribute 'error'",
     "output_type": "error",
     "traceback": [
      "\u001b[0;31m---------------------------------------------------------------------------\u001b[0m",
      "\u001b[0;31mAttributeError\u001b[0m                            Traceback (most recent call last)",
      "\u001b[1;32mUntitled-1.ipynb Cell 14\u001b[0m in \u001b[0;36m<cell line: 1>\u001b[0;34m()\u001b[0m\n\u001b[0;32m----> <a href='vscode-notebook-cell:Untitled-1.ipynb?jupyter-notebook#X24sdW50aXRsZWQ%3D?line=0'>1</a>\u001b[0m snap\u001b[39m.\u001b[39;49mget_system_information(\u001b[39m'\u001b[39;49m\u001b[39mfpg/snap_adc_2022-11-02_1623.fpg\u001b[39;49m\u001b[39m'\u001b[39;49m,initialise_objects\u001b[39m=\u001b[39;49m\u001b[39mFalse\u001b[39;49;00m)\n",
      "File \u001b[0;32m~/Software/miniconda3/envs/py38/lib/python3.8/site-packages/casperfpga/casperfpga.py:819\u001b[0m, in \u001b[0;36mCasperFpga.get_system_information\u001b[0;34m(self, filename, fpg_info, initialise_objects, **kwargs)\u001b[0m\n\u001b[1;32m    817\u001b[0m \u001b[39mself\u001b[39m\u001b[39m.\u001b[39m_create_other_devices(device_dict, initialise\u001b[39m=\u001b[39minitialise_objects)\n\u001b[1;32m    818\u001b[0m \u001b[39mself\u001b[39m\u001b[39m.\u001b[39mlogger\u001b[39m.\u001b[39minfo(\u001b[39m\"\u001b[39m\u001b[39mCreating ADC devices\u001b[39m\u001b[39m\"\u001b[39m)\n\u001b[0;32m--> 819\u001b[0m \u001b[39mself\u001b[39;49m\u001b[39m.\u001b[39;49m_create_casper_adc_devices(device_dict, initialise\u001b[39m=\u001b[39;49minitialise_objects)\n\u001b[1;32m    820\u001b[0m \u001b[39mself\u001b[39m\u001b[39m.\u001b[39mtransport\u001b[39m.\u001b[39mmemory_devices \u001b[39m=\u001b[39m \u001b[39mself\u001b[39m\u001b[39m.\u001b[39mmemory_devices\n\u001b[1;32m    821\u001b[0m \u001b[39mself\u001b[39m\u001b[39m.\u001b[39mlogger\u001b[39m.\u001b[39minfo(\u001b[39m\"\u001b[39m\u001b[39mCreating devices by register name\u001b[39m\u001b[39m\"\u001b[39m)\n",
      "File \u001b[0;32m~/Software/miniconda3/envs/py38/lib/python3.8/site-packages/casperfpga/casperfpga.py:699\u001b[0m, in \u001b[0;36mCasperFpga._create_casper_adc_devices\u001b[0;34m(self, device_dict, initialise, **kwargs)\u001b[0m\n\u001b[1;32m    696\u001b[0m     errmsg \u001b[39m=\u001b[39m \u001b[39m'\u001b[39m\u001b[39m{}\u001b[39;00m\u001b[39m is not a callable ADC Class\u001b[39m\u001b[39m'\u001b[39m\u001b[39m.\u001b[39mformat(known_device_class)\n\u001b[1;32m    697\u001b[0m     \u001b[39mraise\u001b[39;00m \u001b[39mTypeError\u001b[39;00m(errmsg)\n\u001b[0;32m--> 699\u001b[0m new_device \u001b[39m=\u001b[39m known_device_class\u001b[39m.\u001b[39;49mfrom_device_info(\u001b[39mself\u001b[39;49m,\n\u001b[1;32m    700\u001b[0m                 device_name, device_info, initialise\u001b[39m=\u001b[39;49minitialise)\n\u001b[1;32m    702\u001b[0m \u001b[39mif\u001b[39;00m new_device\u001b[39m.\u001b[39mname \u001b[39min\u001b[39;00m \u001b[39mlist\u001b[39m(\u001b[39mself\u001b[39m\u001b[39m.\u001b[39madc_devices\u001b[39m.\u001b[39mkeys()):\n\u001b[1;32m    703\u001b[0m     errmsg \u001b[39m=\u001b[39m \u001b[39m'\u001b[39m\u001b[39mDevice \u001b[39m\u001b[39m{}\u001b[39;00m\u001b[39m of type \u001b[39m\u001b[39m{}\u001b[39;00m\u001b[39m already exists in \u001b[39m\u001b[39m\\\u001b[39;00m\n\u001b[1;32m    704\u001b[0m \u001b[39m             the devices list\u001b[39m\u001b[39m'\u001b[39m\u001b[39m.\u001b[39mformat(new_device\u001b[39m.\u001b[39mname, \u001b[39mtype\u001b[39m(new_device))\n",
      "File \u001b[0;32m~/Software/miniconda3/envs/py38/lib/python3.8/site-packages/casperfpga/snapadc.py:1032\u001b[0m, in \u001b[0;36mSnapAdc.from_device_info\u001b[0;34m(cls, parent, device_name, device_info, initialize, **kwargs)\u001b[0m\n\u001b[1;32m   1019\u001b[0m \u001b[39m@classmethod\u001b[39m\n\u001b[1;32m   1020\u001b[0m \u001b[39mdef\u001b[39;00m \u001b[39mfrom_device_info\u001b[39m(\u001b[39mcls\u001b[39m, parent, device_name, device_info, initialize\u001b[39m=\u001b[39m\u001b[39mFalse\u001b[39;00m, \u001b[39m*\u001b[39m\u001b[39m*\u001b[39mkwargs):\n\u001b[1;32m   1021\u001b[0m     \u001b[39m\"\"\"\u001b[39;00m\n\u001b[1;32m   1022\u001b[0m \u001b[39m    Process device info and the memory map to get all the necessary info\u001b[39;00m\n\u001b[1;32m   1023\u001b[0m \u001b[39m    and return a SKARAB ADC instance.\u001b[39;00m\n\u001b[0;32m   (...)\u001b[0m\n\u001b[1;32m   1030\u001b[0m \u001b[39m    :return:\u001b[39;00m\n\u001b[1;32m   1031\u001b[0m \u001b[39m    \"\"\"\u001b[39;00m\n\u001b[0;32m-> 1032\u001b[0m     \u001b[39mreturn\u001b[39;00m \u001b[39mcls\u001b[39;49m(parent, device_name, device_info, initialize, \u001b[39m*\u001b[39;49m\u001b[39m*\u001b[39;49mkwargs)\n",
      "File \u001b[0;32m~/Software/miniconda3/envs/py38/lib/python3.8/site-packages/casperfpga/snapadc.py:97\u001b[0m, in \u001b[0;36mSnapAdc.__init__\u001b[0;34m(self, host, ADC, resolution, ref, logger, **kwargs)\u001b[0m\n\u001b[1;32m     94\u001b[0m \u001b[39mself\u001b[39m\u001b[39m.\u001b[39mlaneList \u001b[39m=\u001b[39m [\u001b[39m0\u001b[39m, \u001b[39m1\u001b[39m, \u001b[39m2\u001b[39m, \u001b[39m3\u001b[39m, \u001b[39m4\u001b[39m, \u001b[39m5\u001b[39m, \u001b[39m6\u001b[39m, \u001b[39m7\u001b[39m]\n\u001b[1;32m     96\u001b[0m \u001b[39mif\u001b[39;00m \u001b[39mself\u001b[39m\u001b[39m.\u001b[39mresolution \u001b[39mnot\u001b[39;00m \u001b[39min\u001b[39;00m [\u001b[39m8\u001b[39m,\u001b[39m12\u001b[39m,\u001b[39m14\u001b[39m]:\n\u001b[0;32m---> 97\u001b[0m     logger\u001b[39m.\u001b[39;49merror(\u001b[39m\"\u001b[39m\u001b[39mInvalid resolution parameter\u001b[39m\u001b[39m\"\u001b[39m)\n\u001b[1;32m     98\u001b[0m     \u001b[39mraise\u001b[39;00m \u001b[39mValueError\u001b[39;00m(\u001b[39m\"\u001b[39m\u001b[39mInvalid resolution parameter\u001b[39m\u001b[39m\"\u001b[39m)\n\u001b[1;32m    100\u001b[0m \u001b[39mself\u001b[39m\u001b[39m.\u001b[39mcurDelay \u001b[39m=\u001b[39m [[\u001b[39m0\u001b[39m]\u001b[39m*\u001b[39m\u001b[39mlen\u001b[39m(\u001b[39mself\u001b[39m\u001b[39m.\u001b[39mlaneList)]\u001b[39m*\u001b[39m\u001b[39mlen\u001b[39m(\u001b[39mself\u001b[39m\u001b[39m.\u001b[39madcList)\n",
      "\u001b[0;31mAttributeError\u001b[0m: 'NoneType' object has no attribute 'error'"
     ]
    }
   ],
   "source": [
    "snap.get_system_information('fpg/snap_adc_2022-11-02_1623.fpg',initialise_objects=False)"
   ]
  },
  {
   "cell_type": "code",
   "execution_count": null,
   "metadata": {},
   "outputs": [],
   "source": []
  }
 ],
 "metadata": {
  "kernelspec": {
   "display_name": "Python 3.8.13 ('py38')",
   "language": "python",
   "name": "python3"
  },
  "language_info": {
   "codemirror_mode": {
    "name": "ipython",
    "version": 3
   },
   "file_extension": ".py",
   "mimetype": "text/x-python",
   "name": "python",
   "nbconvert_exporter": "python",
   "pygments_lexer": "ipython3",
   "version": "3.8.13"
  },
  "orig_nbformat": 4,
  "vscode": {
   "interpreter": {
    "hash": "27745930533e8c1e0ed937b7f44515451e0a1837fbf8622df4f8cea0a04f783b"
   }
  }
 },
 "nbformat": 4,
 "nbformat_minor": 2
}
