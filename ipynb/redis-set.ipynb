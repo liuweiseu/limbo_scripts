{
 "cells": [
  {
   "cell_type": "code",
   "execution_count": 4,
   "metadata": {},
   "outputs": [],
   "source": [
    "import redis\n",
    "import time\n",
    "\n",
    "r = redis.Redis(host='localhost', port=6379, db=0)\n",
    "t = time.time()\n",
    "\n",
    "redis_set = {\n",
    "      'RF_Lo_Hz':   1350*10**6\n",
    "}\n",
    "for key in redis_set.keys():\n",
    "      r.hset('limbo', key, redis_set[key])\n",
    "\n",
    "redis_set = {\n",
    "      'Target_RA_Deg'   : '0:0:0',\n",
    "      'Target_DEC_Deg'  : '0:0:0',\n",
    "      'Pointing_AZ'     : 0,\n",
    "      'Pointing_EL'     : 90,\n",
    "      'Pointing_Updated': t\n",
    "}\n",
    "for key in redis_set.keys():\n",
    "      r.hset('limbo', key, redis_set[key])\n"
   ]
  },
  {
   "cell_type": "code",
   "execution_count": 1,
   "metadata": {},
   "outputs": [
    {
     "data": {
      "text/plain": [
       "1"
      ]
     },
     "execution_count": 1,
     "metadata": {},
     "output_type": "execute_result"
    }
   ],
   "source": [
    "import redis\n",
    "import time\n",
    "\n",
    "r = redis.Redis('localhost', decode_responses=True)\n",
    "r.hset('test', 'test_field','value')\n"
   ]
  },
  {
   "cell_type": "code",
   "execution_count": null,
   "metadata": {},
   "outputs": [],
   "source": []
  }
 ],
 "metadata": {
  "kernelspec": {
   "display_name": "py38",
   "language": "python",
   "name": "python3"
  },
  "language_info": {
   "codemirror_mode": {
    "name": "ipython",
    "version": 3
   },
   "file_extension": ".py",
   "mimetype": "text/x-python",
   "name": "python",
   "nbconvert_exporter": "python",
   "pygments_lexer": "ipython3",
   "version": "3.8.13"
  },
  "orig_nbformat": 4,
  "vscode": {
   "interpreter": {
    "hash": "27745930533e8c1e0ed937b7f44515451e0a1837fbf8622df4f8cea0a04f783b"
   }
  }
 },
 "nbformat": 4,
 "nbformat_minor": 2
}
