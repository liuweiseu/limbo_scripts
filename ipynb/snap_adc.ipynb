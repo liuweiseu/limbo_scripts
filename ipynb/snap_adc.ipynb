{
 "cells": [
  {
   "cell_type": "markdown",
   "metadata": {},
   "source": [
    "## SNAP--ADC test\n",
    "* requirements:\n",
    "    * casperfpga : [py38 branch](https://github.com/liuweiseu/casperfpga/commits/py38)\n",
    "* ref: 10MHz\n",
    "* resolution: 8bit\n",
    "* sample_freq: 500MHz"
   ]
  },
  {
   "cell_type": "markdown",
   "metadata": {},
   "source": [
    "### Step0: Import necessary packages"
   ]
  },
  {
   "cell_type": "code",
   "execution_count": null,
   "metadata": {},
   "outputs": [],
   "source": [
    "import casperfpga\n",
    "import logging\n",
    "import time\n",
    "import matplotlib.pyplot as plt\n",
    "from scipy.fftpack import fft\n",
    "import numpy as np\n",
    "import os"
   ]
  },
  {
   "cell_type": "markdown",
   "metadata": {},
   "source": [
    "### Step1: Set parameters"
   ]
  },
  {
   "cell_type": "code",
   "execution_count": null,
   "metadata": {},
   "outputs": [],
   "source": [
    "# SNAP board info\n",
    "snap_ip  = '192.168.2.100'\n",
    "port    = 69\n",
    "#fpg_file='dsa10_frb_2022-11-04_1844.fpg'\n",
    "fpg_file='limbo_500_2022-12-03_1749.fpg'\n",
    "# Parameters for spectrameter\n",
    "fs      = 500\n",
    "# adc reference\n",
    "adc_ref = 10\n",
    "# if we want to use external ref, we need to set adc_ref to None\n",
    "# adc_ref = None"
   ]
  },
  {
   "cell_type": "markdown",
   "metadata": {},
   "source": [
    "### Step2: Connect to the SNAP board"
   ]
  },
  {
   "cell_type": "code",
   "execution_count": null,
   "metadata": {},
   "outputs": [],
   "source": [
    "logger=logging.getLogger('snap')\n",
    "logging.basicConfig(filename='snap_adc.log',level=logging.DEBUG)\n",
    "snap=casperfpga.CasperFpga(snap_ip, port, logger=logger)"
   ]
  },
  {
   "cell_type": "markdown",
   "metadata": {},
   "source": [
    "### Step3: Upload fpg file"
   ]
  },
  {
   "cell_type": "code",
   "execution_count": null,
   "metadata": {},
   "outputs": [],
   "source": [
    "fpg = '../fpg/'+fpg_file\n",
    "print('fpg file: ',fpg)\n",
    "#snap.upload_to_ram_and_program(fpg)\n",
    "# We should get system info in \"upload_to_ran_and_program\", but it seems there are some issues in the casperfpga\n",
    "snap.get_system_information(fpg,initialise_objects=False)"
   ]
  },
  {
   "cell_type": "markdown",
   "metadata": {},
   "source": [
    "### Step4: Init clk and adc"
   ]
  },
  {
   "cell_type": "code",
   "execution_count": null,
   "metadata": {},
   "outputs": [],
   "source": [
    "# numChannel depends on fs\n",
    "if(fs==1000):\n",
    "    numChannel = 1\n",
    "    inputs = [1,1,1,1]\n",
    "elif(fs==500):\n",
    "    numChannel = 2\n",
    "    inputs = [1,1,3,3]\n",
    "# init adc and clk\n",
    "adc=snap.adcs['snap_adc']\n",
    "adc.ref = adc_ref\n",
    "adc.selectADC()\n",
    "adc.init(sample_rate=fs,numChannel=numChannel)\n",
    "adc.rampTest(retry=True)\n",
    "adc.adc.selectInput(inputs)\n",
    "# set adc scales\n",
    "# To-do: scale value for each channel is a 3-bits value\n",
    "snap.registers['scaling'].write_int(0)\n",
    "adc.selectADC()\n",
    "adc.set_gain(4)"
   ]
  },
  {
   "cell_type": "markdown",
   "metadata": {},
   "source": [
    "### Step5: Read adc data from snapshot "
   ]
  },
  {
   "cell_type": "code",
   "execution_count": null,
   "metadata": {},
   "outputs": [],
   "source": [
    "# enable ramp mode for test\n",
    "#adc.adc.test(\"en_ramp\")\n",
    "#adc.adc.test(\"off\")\n",
    "\n",
    "# trig the snapshot\n",
    "snap.registers['adc_trig'].write_int(0)\n",
    "snap.registers['adc_trig'].write_int(1)\n",
    "# read adc data from snapshot\n",
    "snap.snapshots['adc_snap'].arm()\n",
    "data = snap.snapshots['adc_snap'].read()['data']\n",
    "adc_data = data['data']\n",
    "# get 8bit data from 64bit data\n",
    "adc_raw = [[],[],[],[],[],[],[],[]]\n",
    "for i in range(len(adc_data)):\n",
    "    for j in range(8):\n",
    "        tmp = adc_data[i] & 0xff\n",
    "        if(tmp < 128):\n",
    "            adc_raw[j].append(tmp)\n",
    "        else:\n",
    "            adc_raw[j].append(tmp-256)\n",
    "        adc_data[i] = adc_data[i]>>8"
   ]
  },
  {
   "cell_type": "markdown",
   "metadata": {},
   "source": [
    "### Step6: plot adc data"
   ]
  },
  {
   "cell_type": "code",
   "execution_count": null,
   "metadata": {},
   "outputs": [],
   "source": [
    "# define how many sample you want to plot\n",
    "n_plot = 64\n",
    "# Now, the script only supports 500MSps and 1000MSps\n",
    "if(fs==1000):\n",
    "    # combine the 4 data streams into 1 stream\n",
    "    adc_a=[]\n",
    "    adc_b=[]\n",
    "    for i in range(len(adc_data)):\n",
    "        adc_a.append(adc_raw[1][i])\n",
    "        adc_a.append(adc_raw[0][i])\n",
    "        adc_a.append(adc_raw[3][i])\n",
    "        adc_a.append(adc_raw[2][i])\n",
    "        adc_b.append(adc_raw[5][i])\n",
    "        adc_b.append(adc_raw[4][i])\n",
    "        adc_b.append(adc_raw[7][i])\n",
    "        adc_b.append(adc_raw[6][i])\n",
    "        '''\n",
    "        for j in range(3,-1,-1):\n",
    "            adc_a.append(adc_raw[j][i])\n",
    "            adc_b.append(adc_raw[j+4][i])\n",
    "        '''\n",
    "\n",
    "    # cal x for the plot\n",
    "    Nfft = len(adc_a)\n",
    "    x=fs/Nfft*np.linspace(0,Nfft,Nfft)\n",
    "    # plot adc_a_time and adc_a_fft\n",
    "    plt_a_time = plt.subplot(2,1,1)\n",
    "    plt.plot(adc_a[1:n_plot])\n",
    "    plt.title('adc_a_time')\n",
    "    plt_a_fft = plt.subplot(2,1,2)\n",
    "    a = np.array(adc_a)\n",
    "    fft_a = fft(a)\n",
    "    plt.plot(x,abs(fft_a))\n",
    "    plt.title('adc_a_fft')\n",
    "    plt.xlabel('MHz')\n",
    "    plt.tight_layout()\n",
    "    plt.show()\n",
    "\n",
    "    # plot adc_b_time and adc_b_fft\n",
    "    plt_b_time = plt.subplot(2,1,1)\n",
    "    plt.plot(adc_b[1:n_plot])\n",
    "    plt.title('adc_b_time')\n",
    "    plt_b_fft = plt.subplot(2,1,2)\n",
    "    b = np.array(adc_b)\n",
    "    fft_b = fft(b)\n",
    "    plt.plot(x,abs(fft_b))\n",
    "    plt.title('adc_b_fft')\n",
    "    plt.xlabel('MHz')\n",
    "    plt.tight_layout()\n",
    "    plt.show()\n",
    "elif(fs==500):\n",
    "    # combine the 4 data streams into 2 streams\n",
    "    adc_a_i = []\n",
    "    adc_a_q = []\n",
    "    adc_b_i = []\n",
    "    adc_b_q = []\n",
    "    for i in range(len(adc_data)):\n",
    "        adc_a_i.append(adc_raw[3][i])\n",
    "        adc_a_i.append(adc_raw[2][i])\n",
    "        adc_a_q.append(adc_raw[1][i])\n",
    "        adc_a_q.append(adc_raw[0][i])\n",
    "        adc_b_i.append(adc_raw[7][i])\n",
    "        adc_b_i.append(adc_raw[6][i])\n",
    "        adc_b_q.append(adc_raw[5][i])\n",
    "        adc_b_q.append(adc_raw[4][i])\n",
    "    # cal x for the plot\n",
    "    Nfft = len(adc_a_i)\n",
    "    x=fs/Nfft*np.linspace(0,Nfft,Nfft)\n",
    "    # plot adc_a_time and adc_a_fft\n",
    "    plt_a_i_time = plt.subplot(2,2,1)\n",
    "    plt.plot(adc_a_i[1:n_plot])\n",
    "    plt.title('adc_a_i_time')\n",
    "    plt_a_i_fft = plt.subplot(2,2,2)\n",
    "    a_i = np.array(adc_a_i)\n",
    "    fft_a_i = fft(a_i)\n",
    "    plt.plot(x,abs(fft_a_i))\n",
    "    plt.title('adc_a_i_fft')\n",
    "    plt.xlabel('MHz')\n",
    "    plt_a_q_time = plt.subplot(2,2,3)\n",
    "    plt.plot(adc_a_q[1:n_plot])\n",
    "    plt.title('adc_a_q_time')\n",
    "    plt_a_q_fft = plt.subplot(2,2,4)\n",
    "    a_q = np.array(adc_a_q)\n",
    "    fft_a_q = fft(a_q)\n",
    "    plt.plot(x,abs(fft_a_q))\n",
    "    plt.title('adc_a_q_fft')\n",
    "    plt.xlabel('MHz')\n",
    "    plt.tight_layout()\n",
    "    plt.show()\n",
    "\n",
    "    # plot adc_b_time and adc_b_fft\n",
    "    plt_b_i_time = plt.subplot(2,2,1)\n",
    "    plt.plot(adc_b_i[1:n_plot])\n",
    "    plt.title('adc_b_i_time')\n",
    "    plt_b_i_fft = plt.subplot(2,2,2)\n",
    "    b_i = np.array(adc_b_i)\n",
    "    fft_b_i = fft(b_i)\n",
    "    plt.plot(x,abs(fft_b_i))\n",
    "    plt.title('adc_b_i_fft')\n",
    "    plt.xlabel('MHz')\n",
    "    plt_b_q_time = plt.subplot(2,2,3)\n",
    "    plt.plot(adc_b_q[1:n_plot])\n",
    "    plt.title('adc_b_q_time')\n",
    "    plt_b_q_fft = plt.subplot(2,2,4)\n",
    "    b_q = np.array(adc_b_q)\n",
    "    fft_b_q = fft(b_q)\n",
    "    plt.plot(x,abs(fft_b_q))\n",
    "    plt.title('adc_b_q_fft')\n",
    "    plt.xlabel('MHz')\n",
    "    plt.tight_layout()\n",
    "    plt.show()"
   ]
  },
  {
   "cell_type": "code",
   "execution_count": null,
   "metadata": {},
   "outputs": [],
   "source": [
    " d=np.array(adc_a_i)\n",
    " rms=np.sqrt(np.mean(d**2))\n",
    " print(rms)\n",
    " d=np.array(adc_a_q)\n",
    " rms=np.sqrt(np.mean(d**2))\n",
    " print(rms)"
   ]
  },
  {
   "cell_type": "code",
   "execution_count": null,
   "metadata": {},
   "outputs": [],
   "source": [
    "adc=snap.adcs['snap_adc']\n",
    "adc.set_gain(4)"
   ]
  },
  {
   "cell_type": "code",
   "execution_count": null,
   "metadata": {},
   "outputs": [],
   "source": []
  }
 ],
 "metadata": {
  "kernelspec": {
   "display_name": "Python 3.8.13 ('py38')",
   "language": "python",
   "name": "python3"
  },
  "language_info": {
   "codemirror_mode": {
    "name": "ipython",
    "version": 3
   },
   "file_extension": ".py",
   "mimetype": "text/x-python",
   "name": "python",
   "nbconvert_exporter": "python",
   "pygments_lexer": "ipython3",
   "version": "3.8.13"
  },
  "orig_nbformat": 4,
  "vscode": {
   "interpreter": {
    "hash": "27745930533e8c1e0ed937b7f44515451e0a1837fbf8622df4f8cea0a04f783b"
   }
  }
 },
 "nbformat": 4,
 "nbformat_minor": 2
}
