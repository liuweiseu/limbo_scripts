{
 "cells": [
  {
   "cell_type": "markdown",
   "metadata": {},
   "source": [
    "## LIMBO Instrumentation\n",
    "* requirements:\n",
    "    * mlib_devel : m2019a branch\n",
    "    * casperfpga : py38 branch"
   ]
  },
  {
   "cell_type": "markdown",
   "metadata": {},
   "source": [
    "### Step0: Import necessary packages"
   ]
  },
  {
   "cell_type": "code",
   "execution_count": null,
   "metadata": {},
   "outputs": [],
   "source": [
    "import os\n",
    "import sys\n",
    "import casperfpga\n",
    "import logging\n",
    "import time\n",
    "import redis"
   ]
  },
  {
   "cell_type": "markdown",
   "metadata": {},
   "source": [
    "### Step1: Set parameters"
   ]
  },
  {
   "cell_type": "code",
   "execution_count": null,
   "metadata": {},
   "outputs": [],
   "source": [
    "'''\n",
    "SNAP board info\n",
    "'''\n",
    "snap_ip  = '192.168.2.102'\n",
    "port    = 69\n",
    "#fpg_file= 'dsa10_2022-11-02_1656.fpg'\n",
    "fpg_file='dsa10_frb_2022-11-04_1844.fpg'\n",
    "'''\n",
    "Parameters for spectrameter\n",
    "''' \n",
    "# sample freq\n",
    "fs = 500\n",
    "# snap id\n",
    "snap_id = 2\n",
    "# adc scale\n",
    "# To-do: scale value for each channel is a 3-bits value\n",
    "adc_scale = 0\n",
    "# adc delays: 8 delays for 8 sub channels \n",
    "adc_delays = [5,5,5,5,5,5,5,5]\n",
    "# fft shift\n",
    "fft_shift = 65535\n",
    "# data sel, which is used for selecting 16bits from 64-bit spectra data\n",
    "# sel: '0' selects 15-0 bit\n",
    "#      '1' selects 31:16 bit\n",
    "#      '2' selects 47-32 bit\n",
    "#      '3' selects 63-48 bit\n",
    "data_sel = 2\n",
    "# spectra coefficient,which is the coefficient for the 64-bit spectra data\n",
    "spec_coeff = 7\n",
    "# acc len, which is related to the integration time for spectra data\n",
    "acc_len = 127\n",
    "\n",
    "'''\n",
    "10GbE info\n",
    "'''\n",
    "# gbe0 info\n",
    "# src\n",
    "gbe0_src_mac  = \"00:08:0b:c4:17:00\"\n",
    "gbe0_src_ip   = \"192.168.2.101\"\n",
    "gbe0_src_port = 4001\n",
    "# dst\n",
    "gbe0_dst_mac  = 0xf452141624a0\n",
    "# write register requires a int vaule, but set_single_arp_entry requires a string\n",
    "gbe0_dst_ip   = 192*(2**24) + 168*(2**16) + 2*(2**8) + 1\n",
    "gbe0_dst_ip_str='192.168.2.1'\n",
    "gbe0_dst_port = 5001\n",
    "# gbe1 info\n",
    "# src\n",
    "gbe1_src_mac  = \"00:08:0b:c4:17:01\"\n",
    "gbe1_src_ip   = \"192.168.2.102\"\n",
    "gbe1_src_port = 4000\n",
    "# dst\n",
    "gbe1_dst_mac  = 0xf452141624a0\n",
    "# write register requires a int vaule, but set_single_arp_entry requires a string\n",
    "gbe1_dst_ip   = 192*(2**24) + 168*(2**16) + 2*(2**8) + 1\n",
    "gbe1_dst_ip_str='192.168.2.1'\n",
    "gbe1_dst_port = 5000"
   ]
  },
  {
   "cell_type": "markdown",
   "metadata": {},
   "source": [
    "### Step2: Store register values into redis server"
   ]
  },
  {
   "cell_type": "code",
   "execution_count": null,
   "metadata": {},
   "outputs": [],
   "source": [
    "r = redis.Redis(host='localhost', port=6379, db=0)\n",
    "t = time.time()\n",
    "redis_set = {\n",
    "      'TimeStamp'      : t,\n",
    "      'SampleFreq'     : fs,\n",
    "      'AccLen'         : acc_len,\n",
    "      'FFTShift'       : fft_shift,\n",
    "      'Scaling'        : adc_scale,\n",
    "      'SpecCoeff'      : spec_coeff,\n",
    "      'AdcDelay0'      : adc_delays[0],\n",
    "      'AdcDelay1'      : adc_delays[1],\n",
    "      'AdcDelay2'      : adc_delays[2],\n",
    "      'AdcDelay3'      : adc_delays[3],\n",
    "      'AdcDelay4'      : adc_delays[4],\n",
    "      'AdcDelay5'      : adc_delays[5],\n",
    "      'AdcDelay6'      : adc_delays[6],\n",
    "      'AdcDelay7'      : adc_delays[7],\n",
    "      'fpg'            : fpg_file\n",
    "}\n",
    "for key in redis_set.keys():\n",
    "      r.hset('OBS_SETTINGS', key, redis_set[key])"
   ]
  },
  {
   "cell_type": "markdown",
   "metadata": {},
   "source": [
    "### Step3: Connect to the SNAP board "
   ]
  },
  {
   "cell_type": "code",
   "execution_count": null,
   "metadata": {},
   "outputs": [],
   "source": [
    "logger=logging.getLogger('snap')\n",
    "logging.basicConfig(filename='snap.log',level=logging.DEBUG)\n",
    "snap=casperfpga.CasperFpga(snap_ip, port, logger=logger)"
   ]
  },
  {
   "cell_type": "markdown",
   "metadata": {},
   "source": [
    "### Step4: Upload fpg file"
   ]
  },
  {
   "cell_type": "code",
   "execution_count": null,
   "metadata": {},
   "outputs": [],
   "source": [
    "fpg = '../fpg/'+fpg_file\n",
    "print('fpg file: ',fpg)\n",
    "snap.upload_to_ram_and_program(fpg)\n",
    "# We should get system info in \"upload_to_ran_and_program\", but it seems there are some issues in the casperfpga\n",
    "snap.get_system_information(fpg,initialise_objects=False)"
   ]
  },
  {
   "cell_type": "markdown",
   "metadata": {},
   "source": [
    "### Step5: Init adc and clk"
   ]
  },
  {
   "cell_type": "code",
   "execution_count": null,
   "metadata": {},
   "outputs": [],
   "source": [
    "# numChannel depends on fs\n",
    "if(fs==1000):\n",
    "    numChannel = 1\n",
    "    inputs = [1,1,1,1]\n",
    "elif(fs==500):\n",
    "    numChannel = 2\n",
    "    inputs = [1,1,3,3]\n",
    "# init adc and clk\n",
    "adc=snap.adcs['snap_adc']\n",
    "adc.selectADC()\n",
    "adc.init(sample_rate=fs,numChannel=numChannel)\n",
    "adc.rampTest(retry=True)\n",
    "adc.adc.selectInput(inputs)\n",
    "# set adc scales\n",
    "# To-do: scale value for each channel is a 3-bits value\n",
    "snap.registers['scaling'].write_int(adc_scale)\n",
    "# set delays between adc module and pfb_fir module\n",
    "snap.registers['del1'].write_int(adc_delays[0])\n",
    "snap.registers['del2'].write_int(adc_delays[1])\n",
    "snap.registers['del3'].write_int(adc_delays[2])\n",
    "snap.registers['del4'].write_int(adc_delays[3])\n",
    "snap.registers['del5'].write_int(adc_delays[4])\n",
    "snap.registers['del6'].write_int(adc_delays[5])\n",
    "snap.registers['del7'].write_int(adc_delays[6])\n",
    "snap.registers['del8'].write_int(adc_delays[7])"
   ]
  },
  {
   "cell_type": "markdown",
   "metadata": {},
   "source": [
    "### Step6: Configure basic registers"
   ]
  },
  {
   "cell_type": "code",
   "execution_count": null,
   "metadata": {},
   "outputs": [],
   "source": [
    "# set snap_index\n",
    "snap.registers['snap_index'].write_int(snap_id)\n",
    "# set fft shift\n",
    "snap.registers['fft_shift'].write_int(fft_shift)\n",
    "# set sel, which is used for selecting 16bits from 64-bit spectra data\n",
    "# sel: '0' selects 15-0 bit\n",
    "#      '1' selects 31:16 bit\n",
    "#      '2' selects 47-32 bit\n",
    "#      '3' selects 63-48 bit\n",
    "snap.registers['sel1'].write_int(data_sel)\n",
    "# set coeff, which is the coefficient for the 64-bit spectra data\n",
    "snap.registers['coeff1'].write_int(spec_coeff)"
   ]
  },
  {
   "cell_type": "markdown",
   "metadata": {},
   "source": [
    "### Step7: Configure 10GbE port"
   ]
  },
  {
   "cell_type": "code",
   "execution_count": null,
   "metadata": {},
   "outputs": [],
   "source": [
    "gbe0=snap.gbes['eth_gbe0']\n",
    "gbe1=snap.gbes['eth1_gbe1']\n",
    "\n",
    "# configure gbe0\n",
    "gbe0.configure_core(gbe0_src_mac, gbe0_src_ip, gbe0_src_port)\n",
    "gbe0.set_single_arp_entry(gbe0_dst_ip_str,gbe0_dst_mac)\n",
    "snap.registers['ip'].write_int(gbe0_dst_ip)\n",
    "snap.registers['port'].write_int(gbe0_dst_port)\n",
    "gbe0.fabric_disable()\n",
    "\n",
    "# configure gbe1\n",
    "gbe1.configure_core(gbe1_src_mac, gbe1_src_ip, gbe1_src_port)\n",
    "gbe1.set_single_arp_entry(gbe1_dst_ip_str,gbe1_dst_mac)\n",
    "snap.registers['ip1'].write_int(gbe1_dst_ip)\n",
    "snap.registers['port1'].write_int(gbe1_dst_port)"
   ]
  },
  {
   "cell_type": "markdown",
   "metadata": {},
   "source": [
    "### Step8 : Configre integration time and then rst the system"
   ]
  },
  {
   "cell_type": "code",
   "execution_count": null,
   "metadata": {},
   "outputs": [],
   "source": [
    "# set acc len\n",
    "snap.registers['acc_len'].write_int(acc_len)\n",
    "# full rst\n",
    "snap.registers['force_sync'].write_int(2) \n",
    "time.sleep(0.1)\n",
    "# sync\n",
    "snap.registers['force_sync'].write_int(1)"
   ]
  },
  {
   "cell_type": "markdown",
   "metadata": {},
   "source": [
    "### Step9: Enable or Disable 10GbE Port"
   ]
  },
  {
   "cell_type": "code",
   "execution_count": null,
   "metadata": {},
   "outputs": [],
   "source": [
    "# Disable 10GbE Port\n",
    "snap.registers['eth1_ctrl'].write_int(1+ 0 + (1<<18))"
   ]
  },
  {
   "cell_type": "code",
   "execution_count": null,
   "metadata": {},
   "outputs": [],
   "source": [
    "# Enable 10GbE Port\n",
    "snap.registers['eth1_ctrl'].write_int(1+ 2 + (1<<18))\n",
    "time.sleep(0.1)\n",
    "snap.registers['eth1_ctrl'].write_int(0 +2 + (0<<18))"
   ]
  }
 ],
 "metadata": {
  "kernelspec": {
   "display_name": "Python 3.8.13 ('py38_debugging')",
   "language": "python",
   "name": "python3"
  },
  "language_info": {
   "codemirror_mode": {
    "name": "ipython",
    "version": 3
   },
   "file_extension": ".py",
   "mimetype": "text/x-python",
   "name": "python",
   "nbconvert_exporter": "python",
   "pygments_lexer": "ipython3",
   "version": "3.8.13"
  },
  "orig_nbformat": 4,
  "vscode": {
   "interpreter": {
    "hash": "fb8efb2a9d471d5e61519e0952f2a755bda98b678e63a94a8de5f5a1a2a5f7d1"
   }
  }
 },
 "nbformat": 4,
 "nbformat_minor": 2
}
