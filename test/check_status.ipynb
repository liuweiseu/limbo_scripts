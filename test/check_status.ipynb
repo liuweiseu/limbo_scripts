{
 "cells": [
  {
   "cell_type": "code",
   "execution_count": 17,
   "metadata": {},
   "outputs": [],
   "source": [
    "import casperfpga\n",
    "from casperfpga.snapadc import SnapAdc\n",
    "import logging\n",
    "import time\n",
    "import matplotlib.pyplot as plt\n",
    "from scipy.fftpack import fft\n",
    "import numpy as np\n",
    "import os"
   ]
  },
  {
   "cell_type": "code",
   "execution_count": 3,
   "metadata": {},
   "outputs": [
    {
     "name": "stderr",
     "output_type": "stream",
     "text": [
      "ERROR:tornado.application:Exception in callback functools.partial(<bound method IOLoop._discard_future_result of <tornado.platform.asyncio.AsyncIOLoop object at 0x7f3e91963ac0>>, <Future finished exception=KatcpClientError(\"Failed to connect to ('192.168.2.100', 69)\")>)\n",
      "Traceback (most recent call last):\n",
      "  File \"/home/wei/Software/miniconda3/envs/py38/lib/python3.8/site-packages/tornado/ioloop.py\", line 740, in _run_callback\n",
      "    ret = callback()\n",
      "  File \"/home/wei/Software/miniconda3/envs/py38/lib/python3.8/site-packages/tornado/ioloop.py\", line 764, in _discard_future_result\n",
      "    future.result()\n",
      "  File \"/home/wei/Software/miniconda3/envs/py38/lib/python3.8/site-packages/tornado/gen.py\", line 782, in run\n",
      "    yielded = self.gen.send(value)\n",
      "  File \"/home/wei/Software/miniconda3/envs/py38/lib/python3.8/site-packages/katcp/client.py\", line 682, in _install\n",
      "    raise KatcpClientError(\"Failed to connect to {0!r}\"\n",
      "katcp.core.KatcpClientError: Failed to connect to ('192.168.2.100', 69)\n"
     ]
    }
   ],
   "source": [
    "logger=logging.getLogger('snap')\n",
    "logging.basicConfig(filename='snap_adc.log',level=logging.DEBUG)\n",
    "snap=casperfpga.CasperFpga('192.168.2.100', 69, logger=logger)"
   ]
  },
  {
   "cell_type": "code",
   "execution_count": 70,
   "metadata": {},
   "outputs": [],
   "source": []
  },
  {
   "cell_type": "code",
   "execution_count": 76,
   "metadata": {},
   "outputs": [
    {
     "ename": "ValueError",
     "evalue": "Invalid resolution parameter",
     "output_type": "error",
     "traceback": [
      "\u001b[0;31m---------------------------------------------------------------------------\u001b[0m",
      "\u001b[0;31mValueError\u001b[0m                                Traceback (most recent call last)",
      "Cell \u001b[0;32mIn [76], line 7\u001b[0m\n\u001b[1;32m      1\u001b[0m devname\u001b[39m=\u001b[39m\u001b[39m'\u001b[39m\u001b[39msnapadc\u001b[39m\u001b[39m'\u001b[39m\n\u001b[1;32m      2\u001b[0m devinfo\u001b[39m=\u001b[39m{\n\u001b[1;32m      3\u001b[0m     \u001b[39m'\u001b[39m\u001b[39madc_resolution\u001b[39m\u001b[39m'\u001b[39m: \u001b[39m0\u001b[39m,\n\u001b[1;32m      4\u001b[0m     \u001b[39m'\u001b[39m\u001b[39msample_rate\u001b[39m\u001b[39m'\u001b[39m: \u001b[39m0\u001b[39m,\n\u001b[1;32m      5\u001b[0m     \u001b[39m'\u001b[39m\u001b[39msnap_inputs\u001b[39m\u001b[39m'\u001b[39m: \u001b[39m0\u001b[39m\n\u001b[1;32m      6\u001b[0m }\n\u001b[0;32m----> 7\u001b[0m adc\u001b[39m=\u001b[39mSnapAdc(snap, devname, devinfo)\n\u001b[1;32m      8\u001b[0m adc\u001b[39m.\u001b[39msnapshot()\n\u001b[1;32m      9\u001b[0m d \u001b[39m=\u001b[39m adc\u001b[39m.\u001b[39mreadRAM()\n",
      "File \u001b[0;32m~/Software/miniconda3/envs/py38/lib/python3.8/site-packages/casperfpga/snapadc.py:114\u001b[0m, in \u001b[0;36mSnapAdc.__init__\u001b[0;34m(self, host, device_name, device_info, initialize, **kwargs)\u001b[0m\n\u001b[1;32m    112\u001b[0m \u001b[39mif\u001b[39;00m \u001b[39mself\u001b[39m\u001b[39m.\u001b[39mresolution \u001b[39mnot\u001b[39;00m \u001b[39min\u001b[39;00m [\u001b[39m8\u001b[39m,\u001b[39m12\u001b[39m,\u001b[39m14\u001b[39m]:\n\u001b[1;32m    113\u001b[0m     logger\u001b[39m.\u001b[39merror(\u001b[39m\"\u001b[39m\u001b[39mInvalid resolution parameter\u001b[39m\u001b[39m\"\u001b[39m)\n\u001b[0;32m--> 114\u001b[0m     \u001b[39mraise\u001b[39;00m \u001b[39mValueError\u001b[39;00m(\u001b[39m\"\u001b[39m\u001b[39mInvalid resolution parameter\u001b[39m\u001b[39m\"\u001b[39m)\n\u001b[1;32m    116\u001b[0m \u001b[39mself\u001b[39m\u001b[39m.\u001b[39mcurDelay \u001b[39m=\u001b[39m [[\u001b[39m0\u001b[39m]\u001b[39m*\u001b[39m\u001b[39mlen\u001b[39m(\u001b[39mself\u001b[39m\u001b[39m.\u001b[39mlaneList)]\u001b[39m*\u001b[39m\u001b[39mlen\u001b[39m(\u001b[39mself\u001b[39m\u001b[39m.\u001b[39madcList)\n\u001b[1;32m    117\u001b[0m \u001b[39m#self.curDelay = np.zeros((len(self.adcList),len(self.laneList)))\u001b[39;00m\n\u001b[1;32m    118\u001b[0m \n\u001b[1;32m    119\u001b[0m \u001b[39m#if ref is not None:\u001b[39;00m\n\u001b[1;32m    120\u001b[0m \u001b[39m#    self.lmx = LMX2581(host,'lmx_ctrl', fosc=ref)\u001b[39;00m\n\u001b[1;32m    121\u001b[0m \u001b[39m#else:\u001b[39;00m\n\u001b[1;32m    122\u001b[0m \u001b[39m#    self.lmx = None\u001b[39;00m\n",
      "\u001b[0;31mValueError\u001b[0m: Invalid resolution parameter"
     ]
    }
   ],
   "source": [
    "devname='snapadc'\n",
    "devinfo={\n",
    "    'adc_resolution': 8,\n",
    "    'sample_rate': 500,\n",
    "    'snap_inputs': 2\n",
    "}\n",
    "adc=SnapAdc(snap, devname, devinfo)\n",
    "adc.snapshot()\n",
    "d = adc.readRAM()\n",
    "adc_a = d[2]\n",
    "print(np.shape(adc_a))\n",
    "a=adc_a.reshape(512,2)\n",
    "a=a.transpose()\n",
    "plt_a_time = plt.subplot(2,1,1)\n",
    "adc = a[0]\n",
    "plt.plot(adc)\n",
    "plt.title('adc_a_time')\n",
    "plt_a_fft = plt.subplot(2,1,2)\n",
    "fft_a = fft(adc)\n",
    "Nfft = len(adc)\n",
    "fs=500\n",
    "x=fs/Nfft*np.linspace(0,Nfft,Nfft)\n",
    "plt.plot(x,abs(fft_a))\n",
    "plt.title('adc_a_fft')\n",
    "plt.xlabel('MHz')\n"
   ]
  },
  {
   "cell_type": "code",
   "execution_count": 58,
   "metadata": {},
   "outputs": [
    {
     "name": "stdout",
     "output_type": "stream",
     "text": [
      "11.668266259389181\n"
     ]
    }
   ],
   "source": [
    " d=np.array(a[0])\n",
    " rms=np.sqrt(np.mean(d**2))\n",
    " print(rms)"
   ]
  },
  {
   "cell_type": "code",
   "execution_count": null,
   "metadata": {},
   "outputs": [],
   "source": []
  }
 ],
 "metadata": {
  "kernelspec": {
   "display_name": "py38",
   "language": "python",
   "name": "python3"
  },
  "language_info": {
   "codemirror_mode": {
    "name": "ipython",
    "version": 3
   },
   "file_extension": ".py",
   "mimetype": "text/x-python",
   "name": "python",
   "nbconvert_exporter": "python",
   "pygments_lexer": "ipython3",
   "version": "3.8.13"
  },
  "orig_nbformat": 4,
  "vscode": {
   "interpreter": {
    "hash": "27745930533e8c1e0ed937b7f44515451e0a1837fbf8622df4f8cea0a04f783b"
   }
  }
 },
 "nbformat": 4,
 "nbformat_minor": 2
}
